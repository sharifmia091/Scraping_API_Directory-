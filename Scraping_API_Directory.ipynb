{
 "cells": [
  {
   "cell_type": "code",
   "execution_count": null,
   "metadata": {},
   "outputs": [],
   "source": [
    "from bs4 import BeautifulSoup\n",
    "import requests\n",
    "import pandas as pd\n",
    "\n",
    "\n",
    "\n",
    "np_api ={}\n",
    "no_api = 0\n",
    "i=0\n",
    "\n",
    "\n",
    "while i<=753:\n",
    "    \n",
    "    url_text =  \"https://www.programmableweb.com/apis/directory/api\"+\"?page=\"+str(i)\n",
    "    \n",
    "    response = requests.get(url_text)\n",
    "    data = response.text\n",
    "    soup = BeautifulSoup(data, \"html.parser\")\n",
    "    apis_odd= soup.find_all(\"tr\", {\"class\",\"odd\"})\n",
    "    apis_even= soup.find_all(\"tr\", {\"class\",\"even\"})\n",
    "    apis = apis_odd + apis_even\n",
    "    i+=1\n",
    "        \n",
    "\n",
    "    for api in apis:\n",
    "        api_name_tag = api.find(\"td\",{\"class\":\"views-field views-field-title col-md-3\"})\n",
    "        api_name = api_name_tag.text.strip() if api_name_tag  else \"N/A\"\n",
    "\n",
    "\n",
    "        descrip_tag = api.find(\"td\",{\"class\":\"views-field views-field-search-api-excerpt views-field-field-api-description hidden-xs visible-md visible-sm col-md-8\"})\n",
    "        descrip =  descrip_tag.text.strip() if api_name_tag  else \"N/A\"\n",
    "\n",
    "        category_tag = api.find(\"td\", {\"class\":\"views-field views-field-field-article-primary-category\"})\n",
    "        category =category_tag.text.strip() if category_tag else \"N/A\"\n",
    "\n",
    "        url_n =api.find(\"a\").get(\"href\")\n",
    "        url_f =\"https://www.programmableweb.com\"+url_n\n",
    "\n",
    "        date_tag = api.find(\"td\", {\"class\":\"views-field views-field-created\"})\n",
    "        date = date_tag.text.strip() if date_tag else \"N/A\"\n",
    "\n",
    "        no_api +=1\n",
    "        np_api[no_api] = [api_name,descrip,category,url_f, date]\n",
    "\n",
    "        #print('API No: ', no_api, '\\n\\napi_name:',api_name, '\\n\\nDescrip:',descrip, '\\n\\ncategory:',category, '\\n\\nLink:',url_f, '\\n\\nDate:',date,'\\n---')\n",
    "\n",
    "    \n",
    "        \n",
    "print(\"Total api:\", no_api)\n",
    "\n",
    "no_api_df = pd.DataFrame.from_dict(np_api,orient = 'index', columns = ['API Name','Description','category', 'Link', 'Sub Date'])\n",
    "\n",
    "no_api_df.head()\n",
    "#no_api_df.to_csv('no_api_df_sharif_2.csv')\n",
    "\n",
    "\n",
    "\n"
   ]
  },
  {
   "cell_type": "code",
   "execution_count": null,
   "metadata": {},
   "outputs": [],
   "source": []
  },
  {
   "cell_type": "code",
   "execution_count": null,
   "metadata": {},
   "outputs": [],
   "source": []
  }
 ],
 "metadata": {
  "kernelspec": {
   "display_name": "Python 3",
   "language": "python",
   "name": "python3"
  },
  "language_info": {
   "codemirror_mode": {
    "name": "ipython",
    "version": 3
   },
   "file_extension": ".py",
   "mimetype": "text/x-python",
   "name": "python",
   "nbconvert_exporter": "python",
   "pygments_lexer": "ipython3",
   "version": "3.7.1"
  }
 },
 "nbformat": 4,
 "nbformat_minor": 2
}
